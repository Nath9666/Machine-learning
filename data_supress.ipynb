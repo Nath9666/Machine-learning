{
 "cells": [
  {
   "cell_type": "markdown",
   "metadata": {},
   "source": [
    "#Preparation des données\n",
    "Dans cette partie nous allons preparer les différentes données pour quelle soit compréhensible par l'ordinateur et la machine\n",
    "Dans un premier temps nous importons la bibliothèque pandas qui va vous permettre de selectionner les donnée et voir si il y en a qui manque"
   ]
  },
  {
   "cell_type": "code",
   "execution_count": null,
   "metadata": {},
   "outputs": [],
   "source": [
    "import pandas as pd\n",
    "import numpy as np\n",
    "\n",
    "data1 = pd.read_csv(\"Doc\\Data_X.csv\")\n",
    "data2 = pd.read_csv(\"Doc\\DataNew_X.csv\")\n",
    "dataNext = pd.DataFrame(data=data1,index=data1.ID,columns=data1.columns)\n",
    "#print(dataNext.index)\n",
    "\n",
    "#print(data1.describe())\n",
    "\n",
    "\n",
    "for name_colomns in data1.columns:\n",
    "    #name_colomns\n",
    "    vzl = data1[name_colomns].isnull()\n",
    "\"\"\"    \n",
    "for value1 in data1.ID:\n",
    "    for value2 in data2.ID:\n",
    "        if value1 == value2:\n",
    "            print(value1, value2)\n",
    "        print(value1,value2)\n",
    "\"\"\"    \n",
    "\n",
    "#1 etape fusionner les 2 tableaus data1 et data2 graca a numpy\n",
    "#print(data1.loc[1054])\n",
    "\"\"\"\n",
    "Dim_dataNext = dataNext.shape\n",
    "print(Dim_dataNext[0])\n",
    "print(dataNext)\n",
    "dataNext.loc[Dim_dataNext[0]] = data2.loc[0]\n",
    "print(dataNext)\n",
    "\"\"\"\n",
    "cpt=0\n",
    "for ID_data2 in data2.ID:\n",
    "    for ID_dataNext in dataNext.ID:\n",
    "        if ID_data2 != ID_dataNext:\n",
    "            \"\"\"print(ID_data2)\n",
    "            print(ID_dataNext)\"\"\"\n",
    "            #On recupere la dimension du tableau\n",
    "            Dim = dataNext.shape[0]\n",
    "            #On insert la valeur du data2 dans le Data next\n",
    "            #dataNext.iloc[Dim] = data2.iloc[ID_data2]\n",
    "            print(dataNext.iloc[Dim])\n",
    "            print(data2.iloc[cpt])\n",
    "    cpt++\n",
    "#2 etape fusionner les data avec le Y grace à l'ID\n",
    "\n",
    "#3 selectioonner les sous ensemble de données\n",
    "\n",
    "#4 creer les nouvel collone graca au ancienne collone\n",
    "\n",
    "#5 triée les lignes en fonction des nouvelles collones"
   ]
  },
  {
   "cell_type": "code",
   "execution_count": null,
   "metadata": {},
   "outputs": [],
   "source": []
  }
 ],
 "metadata": {
  "kernelspec": {
   "display_name": "Python 3 (ipykernel)",
   "language": "python",
   "name": "python3"
  },
  "language_info": {
   "codemirror_mode": {
    "name": "ipython",
    "version": 3
   },
   "file_extension": ".py",
   "mimetype": "text/x-python",
   "name": "python",
   "nbconvert_exporter": "python",
   "pygments_lexer": "ipython3",
   "version": "3.6.8"
  }
 },
 "nbformat": 4,
 "nbformat_minor": 2
}
