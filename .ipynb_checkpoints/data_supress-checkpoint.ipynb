{
 "cells": [
  {
   "cell_type": "markdown",
   "metadata": {},
   "source": [
    "#Preparation des données\n",
    "Dans cette partie nous allons preparer les différentes données pour quelle soit compréhensible par l'ordinateur et la machine\n",
    "Dans un premier temps nous importons la bibliothèque pandas qui va vous permettre de selectionner les donnée et voir si il y en a qui manque"
   ]
  },
  {
   "cell_type": "code",
   "execution_count": 2,
   "metadata": {},
   "outputs": [
    {
     "name": "stdout",
     "output_type": "stream",
     "text": [
      "ID                        1054\n",
      "DAY_ID                     206\n",
      "COUNTRY                     FR\n",
      "DE_CONSUMPTION        0.210099\n",
      "FR_CONSUMPTION       -0.427458\n",
      "DE_FR_EXCHANGE       -0.606523\n",
      "FR_DE_EXCHANGE        0.606523\n",
      "DE_NET_EXPORT              NaN\n",
      "FR_NET_EXPORT          0.69286\n",
      "DE_NET_IMPORT              NaN\n",
      "FR_NET_IMPORT         -0.69286\n",
      "DE_GAS                0.441238\n",
      "FR_GAS               -0.213766\n",
      "DE_COAL               0.740627\n",
      "FR_COAL               0.288782\n",
      "DE_HYDRO               2.20905\n",
      "FR_HYDRO              0.207838\n",
      "DE_NUCLEAR            0.709614\n",
      "FR_NUCLEAR           -0.190463\n",
      "DE_SOLAR              0.101766\n",
      "FR_SOLAR               1.24891\n",
      "DE_WINDPOW            -0.57337\n",
      "FR_WINDPOW            -0.26946\n",
      "DE_LIGNITE            0.870344\n",
      "DE_RESIDUAL_LOAD      0.626666\n",
      "FR_RESIDUAL_LOAD     -0.444661\n",
      "DE_RAIN               -0.17268\n",
      "FR_RAIN              -0.556356\n",
      "DE_WIND              -0.790823\n",
      "FR_WIND               -0.28316\n",
      "DE_TEMP               -1.06907\n",
      "FR_TEMP             -0.0634041\n",
      "GAS_RET               0.339041\n",
      "COAL_RET              0.124552\n",
      "CARBON_RET         -0.00244479\n",
      "Name: 0, dtype: object\n"
     ]
    }
   ],
   "source": [
    "import pandas as pd\n",
    "import numpy as np\n",
    "\n",
    "data1 = pd.read_csv(\"Doc\\Data_X.csv\")\n",
    "data2 = pd.read_csv(\"Doc\\DataNew_X.csv\")\n",
    "#print(data1)\n",
    "\n",
    "#print(data1.describe())\n",
    "\n",
    "\n",
    "for name_colomns in data1.columns:\n",
    "    #name_colomns\n",
    "    vzl = data1[name_colomns].isnull()\n",
    "\"\"\"    \n",
    "for value1 in data1.ID:\n",
    "    for value2 in data2.ID:\n",
    "        if value1 == value2:\n",
    "            print(value1, value2)\n",
    "        print(value1,value2)\n",
    "\"\"\"    \n",
    "\n",
    "#1 etape fusionner les 2 tableaus data1 et data2 graca a numpy\n",
    "print(data1.loc[0])\n",
    "pri\n",
    "\n",
    "\n",
    "#2 etape fusionner les data avec le Y grace à l'ID\n",
    "\n",
    "#3 selectioonner les sous ensemble de données\n",
    "\n",
    "#4 creer les nouvel collone graca au ancienne collone\n",
    "\n",
    "#5 triée les lignes en fonction des nouvelles collones"
   ]
  },
  {
   "cell_type": "code",
   "execution_count": null,
   "metadata": {},
   "outputs": [],
   "source": []
  }
 ],
 "metadata": {
  "kernelspec": {
   "display_name": "Python 3 (ipykernel)",
   "language": "python",
   "name": "python3"
  },
  "language_info": {
   "codemirror_mode": {
    "name": "ipython",
    "version": 3
   },
   "file_extension": ".py",
   "mimetype": "text/x-python",
   "name": "python",
   "nbconvert_exporter": "python",
   "pygments_lexer": "ipython3",
   "version": "3.6.8"
  }
 },
 "nbformat": 4,
 "nbformat_minor": 2
}
