{
 "cells": [
  {
   "cell_type": "markdown",
   "metadata": {},
   "source": [
    "#Preparation des données\n",
    "Dans cette partie nous allons preparer les différentes données pour quelle soit compréhensible par l'ordinateur et la machine\n",
    "Dans un premier temps nous importons la bibliothèque pandas qui va vous permettre de selectionner les donnée et voir si il y en a qui manque"
   ]
  },
  {
   "cell_type": "code",
   "execution_count": null,
   "metadata": {},
   "outputs": [],
   "source": [
    "import pandas as pd\n",
    "import numpy as np\n",
    "\n",
    "data1 = pd.read_csv(\"Doc\\Data_X.csv\")\n",
    "data2 = pd.read_csv(\"Doc\\DataNew_X.csv\")\n",
    "#print(data1)\n",
    "\n",
    "#print(data1.describe())\n",
    "\n",
    "\n",
    "for name_colomns in data1.columns:\n",
    "    #name_colomns\n",
    "    vzl = data1[name_colomns].isnull()\n",
    "    \n",
    "for value1 in data1.ID:\n",
    "    for value2 in data2.ID:\n",
    "        if value1 == value2:\n",
    "            print(value1, value2)\n",
    "        print(value1,value2)\n",
    "    \n",
    "print('hello')\n",
    "\n",
    "#1 etape fusionner les 2 tableaus data1 et data2 grace a numpy\n",
    "\n",
    "\n",
    "#2 etape fusionner les data avec le Y grace à l'ID\n",
    "\n",
    "#3 selectioonner les sous ensemble de données\n",
    "\n",
    "#4 creer les nouvel collone graca au ancienne collone\n",
    "\n",
    "#5 triée les lignes en fonction des nouvelles collones"
   ]
  },
  {
   "cell_type": "code",
   "execution_count": null,
   "metadata": {},
   "outputs": [],
   "source": [
    "print(data1.loc[1])"
   ]
  },
  {
   "cell_type": "code",
   "execution_count": null,
   "metadata": {},
   "outputs": [],
   "source": []
  }
 ],
 "metadata": {
  "kernelspec": {
   "display_name": "Python 3 (ipykernel)",
   "language": "python",
   "name": "python3"
  },
  "language_info": {
   "codemirror_mode": {
    "name": "ipython",
    "version": 3
   },
   "file_extension": ".py",
   "mimetype": "text/x-python",
   "name": "python",
   "nbconvert_exporter": "python",
   "pygments_lexer": "ipython3",
   "version": "3.6.8"
  }
 },
 "nbformat": 4,
 "nbformat_minor": 2
}
