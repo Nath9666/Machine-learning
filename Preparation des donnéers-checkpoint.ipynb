{
 "cells": [
  {
   "cell_type": "markdown",
   "metadata": {},
   "source": [
    "#Preparation des données\n",
    "Dans cette partie nous allons preparer les différentes données pour quelle soit compréhensible par l'ordinateur et la machine\n",
    "Dans un premier temps nous importons la bibliothèque pandas qui va vous permettre de selectionner les donnée et voir si il y en a qui manque"
   ]
  },
  {
   "cell_type": "code",
   "execution_count": 2,
   "metadata": {},
   "outputs": [
    {
     "name": "stdout",
     "output_type": "stream",
     "text": [
      "hello\n"
     ]
    }
   ],
   "source": [
    "import pandas as pd\n",
    "import numpy as np\n",
    "\n",
    "data1 = pd.read_csv(\"Doc\\Data_X.csv\")\n",
    "data2 = pd.read_csv(\"Doc\\DataNew_X.csv\")\n",
    "\n",
    "print(data1.describe())\n",
    "\n",
    "for id in data1['ID'].unique():\n",
    "    print(id)"
   ]
  },
  {
   "cell_type": "code",
   "execution_count": null,
   "metadata": {},
   "outputs": [],
   "source": []
  }
 ],
 "metadata": {
  "kernelspec": {
   "display_name": "Python 3 (ipykernel)",
   "language": "python",
   "name": "python3"
  },
  "language_info": {
   "codemirror_mode": {
    "name": "ipython",
    "version": 3
   },
   "file_extension": ".py",
   "mimetype": "text/x-python",
   "name": "python",
   "nbconvert_exporter": "python",
   "pygments_lexer": "ipython3",
   "version": "3.6.8"
  }
 },
 "nbformat": 4,
 "nbformat_minor": 2
}
